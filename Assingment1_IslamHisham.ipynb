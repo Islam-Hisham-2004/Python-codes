{
  "cells": [
    {
      "cell_type": "markdown",
      "metadata": {
        "id": "U_m-HTrlnsUs"
      },
      "source": [
        "# Practice    "
      ]
    },
    {
      "cell_type": "markdown",
      "metadata": {
        "id": "n9sprkblnsUt"
      },
      "source": [
        "# 1. Python Flow Control"
      ]
    },
    {
      "cell_type": "markdown",
      "metadata": {
        "id": "NnYJY0DGnsUt"
      },
      "source": [
        "## 1. Write a Python program to find those numbers which are divisible by 7 and multiples of 5, between 1500 and 2700 (both included).\n",
        "\n",
        "\n",
        "\n"
      ]
    },
    {
      "cell_type": "code",
      "execution_count": 4,
      "metadata": {
        "colab": {
          "base_uri": "https://localhost:8080/"
        },
        "id": "WRZLjHxGnsUt",
        "outputId": "6098db9c-2752-4098-8d3c-20bbb9849264"
      },
      "outputs": [
        {
          "output_type": "stream",
          "name": "stdout",
          "text": [
            "[1505, 1540, 1575, 1610, 1645, 1680, 1715, 1750, 1785, 1820, 1855, 1890, 1925, 1960, 1995, 2030, 2065, 2100, 2135, 2170, 2205, 2240, 2275, 2310, 2345, 2380, 2415, 2450, 2485, 2520, 2555, 2590, 2625, 2660, 2695]\n"
          ]
        }
      ],
      "source": [
        "lst=[]\n",
        "for n in range(1500,2701):\n",
        "    if n%7 == 0 and n%5 == 0:\n",
        "        lst.append(n)\n",
        "print(lst)"
      ]
    },
    {
      "cell_type": "markdown",
      "metadata": {
        "id": "yqc32NFhnsUu"
      },
      "source": [
        "## 2. Write a Python program to guess a number between 1 and 9.\n",
        "Note : User is prompted to enter a guess. If the user guesses wrong then the prompt appears again until the guess is correct, on successful guess, user will get a \"Well guessed!\" message, and the program will exit."
      ]
    },
    {
      "cell_type": "code",
      "execution_count": 9,
      "metadata": {
        "colab": {
          "base_uri": "https://localhost:8080/"
        },
        "id": "mHiLcPWXnsUu",
        "outputId": "8d787a9a-47bb-4e43-ef77-d62a7de6d9b6"
      },
      "outputs": [
        {
          "output_type": "stream",
          "name": "stdout",
          "text": [
            "enter a guess : 7\n",
            "Try Again\n",
            "enter a guess : 8\n",
            "Congratultions ^^ 8\n"
          ]
        }
      ],
      "source": [
        "import random\n",
        "x = random.randint(1, 9)\n",
        "while True:\n",
        "    n = int(input(\"enter a guess : \"))\n",
        "    if n == x:\n",
        "        break\n",
        "    else:\n",
        "        print (\"Try Again\")\n",
        "print(f\"Congratultions ^^ {x}\")"
      ]
    },
    {
      "cell_type": "markdown",
      "metadata": {
        "id": "cgoGa2w_nsUu"
      },
      "source": [
        "## 3. Write a Python program that prints all the numbers from 0 to 6 except 3 and 6.\n",
        "Note : Use 'continue' statement.\n",
        "Expected Output : 0 1 2 4 5\n"
      ]
    },
    {
      "cell_type": "markdown",
      "metadata": {
        "id": "fWBfYOY0nsUu"
      },
      "source": [
        "## 4. Write a Python program to construct the following pattern, using a nested for loop.\n",
        "```\n",
        "*\n",
        "* *\n",
        "* * *\n",
        "* * * *\n",
        "* * * * *\n",
        "* * * *\n",
        "* * *\n",
        "* *\n",
        "*\n",
        "```"
      ]
    },
    {
      "cell_type": "code",
      "execution_count": 24,
      "metadata": {
        "colab": {
          "base_uri": "https://localhost:8080/"
        },
        "id": "fmkZ9Y9JnsUu",
        "outputId": "347abb21-2deb-458a-f09c-99fa004b6a4f"
      },
      "outputs": [
        {
          "output_type": "stream",
          "name": "stdout",
          "text": [
            "* \n",
            "* * \n",
            "* * * \n",
            "* * * * \n",
            "* * * * * \n",
            "* * * * \n",
            "* * * \n",
            "* * \n",
            "* \n"
          ]
        }
      ],
      "source": [
        "for i in range(1, 6):\n",
        "    for j in range(i):\n",
        "        print(\"*\",end=\" \")\n",
        "    print()\n",
        "for i in range(4, 0, -1):\n",
        "    for j in range(i):\n",
        "        print(\"*\", end=\" \")\n",
        "    print()"
      ]
    },
    {
      "cell_type": "code",
      "execution_count": 27,
      "metadata": {
        "colab": {
          "base_uri": "https://localhost:8080/"
        },
        "id": "NZOb44hnnsUu",
        "outputId": "38294ac0-e4c4-4881-98ac-36f54c566dd1"
      },
      "outputs": [
        {
          "output_type": "stream",
          "name": "stdout",
          "text": [
            "      * \n",
            "     * * \n",
            "    * * * \n",
            "   * * * * \n",
            "  * * * * * \n",
            " * * * * * * \n",
            "* * * * * * * \n",
            " * * * * * * \n",
            "  * * * * * \n",
            "   * * * * \n",
            "    * * * \n",
            "     * * \n",
            "      * \n"
          ]
        }
      ],
      "source": [
        "rows = 7\n",
        "\n",
        "for i in range(1, rows + 1):\n",
        "    print(\" \" * (rows - i), end=\"\")\n",
        "    print(\"* \" * i)\n",
        "\n",
        "for i in range(rows - 1, 0, -1):\n",
        "    print(\" \" * (rows - i), end=\"\")\n",
        "    print(\"* \" * i)\n"
      ]
    },
    {
      "cell_type": "markdown",
      "metadata": {
        "id": "chSazqQbnsUv"
      },
      "source": [
        "## 5. Write a Python program that accepts a word from the user and reverses it.\n",
        "\n"
      ]
    },
    {
      "cell_type": "markdown",
      "metadata": {
        "id": "WLNqdXnYnsUv"
      },
      "source": [
        "## 6. Write a Python program to count the number of even and odd numbers in a series of numbers\n",
        "Sample numbers : numbers = (1, 2, 3, 4, 5, 6, 7, 8, 9)\n",
        "\n",
        "Expected Output :\n",
        "\n",
        "Number of even numbers : 4\n",
        "\n",
        "Number of odd numbers : 5"
      ]
    },
    {
      "cell_type": "code",
      "source": [
        "numbers = (1, 2, 3, 4, 5, 6, 7, 8, 9)\n",
        "even_count = 0\n",
        "odd_count = 0\n",
        "for num in numbers:\n",
        "    if num % 2 == 0:\n",
        "        even_count += 1\n",
        "    else:\n",
        "        odd_count += 1\n",
        "print(f\"Number of even numbers : {even_count}\")\n",
        "print(f\"Number of odd numbers : {odd_count}\")"
      ],
      "metadata": {
        "colab": {
          "base_uri": "https://localhost:8080/"
        },
        "id": "kck7A7ca0Q8i",
        "outputId": "974f4b0a-1617-4b21-f002-967c3d40fe63"
      },
      "execution_count": 30,
      "outputs": [
        {
          "output_type": "stream",
          "name": "stdout",
          "text": [
            "Number of even numbers : 4\n",
            "Number of odd numbers : 5\n"
          ]
        }
      ]
    },
    {
      "cell_type": "markdown",
      "metadata": {
        "id": "5qN13bfknsUv"
      },
      "source": [
        "## 7. Write a Python program to print the the first alphabet pattern 'A-Z' in your name .\n",
        "for example  Expected Output:\n",
        "\n",
        "\n",
        "```\n",
        "  ***                                                                   \n",
        " *   *                                                                  \n",
        " *   *                                                                  \n",
        " *****                                                                  \n",
        " *   *                                                                  \n",
        " *   *                                                                  \n",
        " *   *\n",
        "```"
      ]
    },
    {
      "cell_type": "code",
      "execution_count": 34,
      "metadata": {
        "colab": {
          "base_uri": "https://localhost:8080/"
        },
        "id": "7h-q4KSgnsUv",
        "outputId": "a36670c6-efee-43d2-88e2-249bb37650ea"
      },
      "outputs": [
        {
          "output_type": "stream",
          "name": "stdout",
          "text": [
            "*****\n",
            "  *  \n",
            "  *  \n",
            "  *  \n",
            "  *  \n",
            "  *  \n",
            "*****\n"
          ]
        }
      ],
      "source": [
        "#name = \"Islam\"\n",
        "height = 7\n",
        "width = 5\n",
        "\n",
        "for row in range(height):\n",
        "    for col in range(width):\n",
        "\n",
        "        if row == 0 or row == height - 1 or col == width // 2:\n",
        "            print(\"*\", end=\"\")\n",
        "        else:\n",
        "            print(\" \", end=\"\")\n",
        "    print()"
      ]
    },
    {
      "cell_type": "markdown",
      "metadata": {
        "id": "B6uqmAlJnsUv"
      },
      "source": [
        "## 8.  Write a Python program to construct the following pattern, using a nested loop number.\n",
        "Expected Output:\n",
        "\n",
        "\n",
        "``\n",
        "1\n",
        "22\n",
        "333\n",
        "4444\n",
        "55555\n",
        "666666\n",
        "7777777\n",
        "88888888\n",
        "999999999\n",
        "``"
      ]
    },
    {
      "cell_type": "code",
      "execution_count": 36,
      "metadata": {
        "colab": {
          "base_uri": "https://localhost:8080/"
        },
        "id": "Fg5P5Bm0nsUv",
        "outputId": "f95ba8b6-dc59-4043-e19a-a4d1b815a223"
      },
      "outputs": [
        {
          "output_type": "stream",
          "name": "stdout",
          "text": [
            "1 22 333 4444 55555 666666 7777777 88888888 999999999 "
          ]
        }
      ],
      "source": [
        "for i in range(1, 10):\n",
        "    print(str(i) * i , end =\" \")"
      ]
    },
    {
      "cell_type": "markdown",
      "metadata": {
        "id": "5VNH7aeLnsUv"
      },
      "source": [
        "## 9. Write a Python program to create the multiplication table (from 1 to 10) of a number.\n",
        "Expected Output:\n",
        "\n",
        "Input a number: 6                                                       \n",
        "6 x 1 = 6                                                               \n",
        "6 x 2 = 12                                                              \n",
        "6 x 3 = 18                                                              \n",
        "6 x 4 = 24                                                              \n",
        "6 x 5 = 30                                                              \n",
        "6 x 6 = 36                                                              \n",
        "6 x 7 = 42                                                              \n",
        "6 x 8 = 48                                                              \n",
        "6 x 9 = 54                                                              \n",
        "6 x 10 = 60\n"
      ]
    },
    {
      "cell_type": "code",
      "execution_count": 2,
      "metadata": {
        "colab": {
          "base_uri": "https://localhost:8080/"
        },
        "id": "Qgh0rGBunsUv",
        "outputId": "b8782a02-dcb8-4b15-ead5-c10349499b52"
      },
      "outputs": [
        {
          "output_type": "stream",
          "name": "stdout",
          "text": [
            "Input a number: 7\n",
            "7 x 1 = 7\n",
            "7 x 2 = 14\n",
            "7 x 3 = 21\n",
            "7 x 4 = 28\n",
            "7 x 5 = 35\n",
            "7 x 6 = 42\n",
            "7 x 7 = 49\n",
            "7 x 8 = 56\n",
            "7 x 9 = 63\n",
            "7 x 10 = 70\n"
          ]
        }
      ],
      "source": [
        "number = int(input(\"Input a number: \"))\n",
        "\n",
        "for i in range(1, 11):\n",
        "  print(number, \"x\", i, \"=\", number * i)"
      ]
    },
    {
      "cell_type": "markdown",
      "metadata": {
        "id": "zgArAjLLnsUv"
      },
      "source": [
        "## 10. Write a Python program to calculate the sum and average of n integer numbers (input from the user). Input 0 to finish."
      ]
    },
    {
      "cell_type": "code",
      "execution_count": 38,
      "metadata": {
        "colab": {
          "base_uri": "https://localhost:8080/"
        },
        "id": "uxPPQXwdnsUv",
        "outputId": "3d64305e-4085-40e5-a8a1-646395e50781"
      },
      "outputs": [
        {
          "name": "stdout",
          "output_type": "stream",
          "text": [
            "Enter a first number: 5\n",
            "Enter a second number: 6\n",
            "The sum of 5 and 6 is 11\n",
            "The average of 5 and 6 is 5.5\n",
            "Enter a first number: 9\n",
            "Enter a second number: 18\n",
            "The sum of 9 and 18 is 27\n",
            "The average of 9 and 18 is 13.5\n",
            "Enter a first number: 0\n"
          ]
        }
      ],
      "source": [
        "while True:\n",
        "    n1 = int(input(\"Enter a first number: \"))\n",
        "    if n1 == 0:\n",
        "        break\n",
        "    n2 = int(input(\"Enter a second number: \"))\n",
        "    sum = n1 + n2\n",
        "    print(f\"The sum of {n1} and {n2} is {sum}\")\n",
        "    average = sum / 2\n",
        "    print(f\"The average of {n1} and {n2} is {average}\")\n"
      ]
    },
    {
      "cell_type": "markdown",
      "metadata": {
        "id": "MUX5pehgnsUv"
      },
      "source": [
        "# 11-Python Program to Print the Fibonacci sequence\n",
        "\n",
        "The Fibonacci numbers are the numbers in the following integer sequence. 0, 1, 1, 2, 3, 5, 8, 13, 21, 34, 55, 89, 144, â€¦â€¦.. In mathematical terms, the sequence Fn of Fibonacci numbers is defined by the recurrence relation.\n",
        "\n",
        "\n",
        "![image.png](attachment:image.png)"
      ]
    },
    {
      "cell_type": "code",
      "source": [
        "num = int(input(\"Enter the number of numbers: \"))\n",
        "\n",
        "if num <= 0:\n",
        "    print(\"Please enter a positive number.\")\n",
        "else:\n",
        "    a = 0\n",
        "    b = 1\n",
        "\n",
        "    print(\"The Fibonacci sequence:\")\n",
        "    for i in range(num):\n",
        "        print(a, end=\" \")\n",
        "        next_num = a + b\n",
        "        a = b\n",
        "        b = next_num\n"
      ],
      "metadata": {
        "colab": {
          "base_uri": "https://localhost:8080/"
        },
        "id": "Pmm5Kt8o4NWc",
        "outputId": "2d575272-8e18-498f-9231-f8e4f83226bb"
      },
      "execution_count": 39,
      "outputs": [
        {
          "output_type": "stream",
          "name": "stdout",
          "text": [
            "Enter the number of numbers: 9\n",
            "The Fibonacci sequence:\n",
            "0 1 1 2 3 5 8 13 21 "
          ]
        }
      ]
    },
    {
      "cell_type": "markdown",
      "metadata": {
        "id": "OcZnG3DynsUv"
      },
      "source": [
        "# Finding the Maximum Value in a List"
      ]
    },
    {
      "cell_type": "code",
      "execution_count": 40,
      "metadata": {
        "colab": {
          "base_uri": "https://localhost:8080/"
        },
        "id": "WQWVOKlFnsUw",
        "outputId": "8be57515-521e-405a-ba26-fa4882428bb4"
      },
      "outputs": [
        {
          "output_type": "stream",
          "name": "stdout",
          "text": [
            "Max =  11\n"
          ]
        }
      ],
      "source": [
        "lst = [1,2,3,4,5,9,11,0]\n",
        "max = 0\n",
        "for i in lst:\n",
        "    if i > max:\n",
        "        max=i\n",
        "print('Max = ', max )"
      ]
    },
    {
      "cell_type": "markdown",
      "metadata": {
        "id": "WmK_zSkYnsUw"
      },
      "source": [
        "# Counting Vowels in a String"
      ]
    },
    {
      "cell_type": "code",
      "execution_count": 41,
      "metadata": {
        "colab": {
          "base_uri": "https://localhost:8080/"
        },
        "id": "qSAHSQOfnsUw",
        "outputId": "05dd6049-851c-425e-e794-8908623940e2"
      },
      "outputs": [
        {
          "output_type": "stream",
          "name": "stdout",
          "text": [
            "islam\n",
            "vowels count :  2\n"
          ]
        }
      ],
      "source": [
        "st = str(input())\n",
        "vowels = ['a','e','i','o','u']\n",
        "cnt = 0\n",
        "for char in st:\n",
        "    if char in vowels:\n",
        "        cnt+=1\n",
        "print('vowels count : ',cnt)"
      ]
    },
    {
      "cell_type": "markdown",
      "metadata": {
        "id": "tEiejWMTnsUw"
      },
      "source": [
        "# Finding Prime Numbers within a Range"
      ]
    },
    {
      "cell_type": "code",
      "execution_count": 42,
      "metadata": {
        "colab": {
          "base_uri": "https://localhost:8080/"
        },
        "id": "ul9fMPYansUw",
        "outputId": "d5bd33ae-8523-4bdf-c600-17a89ea3dd65"
      },
      "outputs": [
        {
          "output_type": "stream",
          "name": "stdout",
          "text": [
            "Enter The max range : 9\n",
            "[2, 3, 5, 7]\n"
          ]
        }
      ],
      "source": [
        "n = int(input(\"Enter The max range : \"))\n",
        "prime = []\n",
        "for num in range(2,n+1):\n",
        "    isprime = True\n",
        "    for i in range(2,num):\n",
        "        if num % i == 0:\n",
        "            isprime = False\n",
        "            break\n",
        "    if isprime:\n",
        "        prime.append(num)\n",
        "print(prime)\n"
      ]
    },
    {
      "cell_type": "markdown",
      "metadata": {
        "id": "OSTQ-29bnsUw"
      },
      "source": [
        "# A Program that Simulating a Basic ATM Withdrawal"
      ]
    },
    {
      "cell_type": "code",
      "execution_count": 43,
      "metadata": {
        "colab": {
          "base_uri": "https://localhost:8080/"
        },
        "id": "uXVyIAdJnsUw",
        "outputId": "9d8c1362-d94f-4c31-a51d-a9d930a2dbc5"
      },
      "outputs": [
        {
          "output_type": "stream",
          "name": "stdout",
          "text": [
            "Welcome to the ATM!\n",
            "Your balance is: $ 10000\n",
            "Choose operation : 1. Deposit 2. Withdraw 3. Check Balance 4. Exit\n",
            "1\n",
            "Enter the amount to deposit: $500\n",
            "Deposit successful!\n",
            "Your new balance is: $ 10500.0\n",
            "Choose operation : 1. Deposit 2. Withdraw 3. Check Balance 4. Exit\n",
            "2\n",
            "Enter the amount to withdraw: $20000\n",
            "Insufficient funds!\n",
            "Your balance is: $ 10500.0\n",
            "Choose operation : 1. Deposit 2. Withdraw 3. Check Balance 4. Exit\n",
            "2\n",
            "Enter the amount to withdraw: $800\n",
            "Withdrawal successful!\n",
            "Your new balance is: $ 9700.0\n",
            "Choose operation : 1. Deposit 2. Withdraw 3. Check Balance 4. Exit\n",
            "3\n",
            "Your balance is: $ 9700.0\n",
            "Choose operation : 1. Deposit 2. Withdraw 3. Check Balance 4. Exit\n",
            "4\n",
            "Thank you for using the ATM!\n"
          ]
        }
      ],
      "source": [
        "balance = 10000\n",
        "\n",
        "print(\"Welcome to the ATM!\")\n",
        "print(\"Your balance is: $\", balance)\n",
        "while True:\n",
        "    print(\"Choose operation : 1. Deposit 2. Withdraw 3. Check Balance 4. Exit\")\n",
        "    ch=int(input())\n",
        "    if ch == 1:\n",
        "        amount = float(input(\"Enter the amount to deposit: $\"))\n",
        "        balance += amount\n",
        "        print(\"Deposit successful!\")\n",
        "        print(\"Your new balance is: $\", balance)\n",
        "    elif ch == 2:\n",
        "        amount = float(input(\"Enter the amount to withdraw: $\"))\n",
        "        if amount > balance:\n",
        "            print(\"Insufficient funds!\")\n",
        "            print(\"Your balance is: $\", balance)\n",
        "        else:\n",
        "            balance -= amount\n",
        "            print(\"Withdrawal successful!\")\n",
        "            print(\"Your new balance is: $\", balance)\n",
        "    elif ch == 3:\n",
        "        print(\"Your balance is: $\", balance)\n",
        "\n",
        "    elif ch == 4:\n",
        "        print(\"Thank you for using the ATM!\")\n",
        "        break\n",
        "    else:\n",
        "        print(\"Invalid choice!\")\n",
        "        print(\"Please choose a valid option.\")\n"
      ]
    },
    {
      "cell_type": "markdown",
      "source": [],
      "metadata": {
        "id": "nijsshJ-5Vva"
      }
    },
    {
      "cell_type": "markdown",
      "metadata": {
        "id": "5v7C-EjDnsUw"
      },
      "source": [
        "# Finding Common Elements in Two Lists"
      ]
    },
    {
      "cell_type": "code",
      "execution_count": 44,
      "metadata": {
        "colab": {
          "base_uri": "https://localhost:8080/"
        },
        "id": "0Wrou5EhnsUw",
        "outputId": "fd4b1666-530e-4f85-935e-e83534f86abd"
      },
      "outputs": [
        {
          "output_type": "stream",
          "name": "stdout",
          "text": [
            "[3, 4, 5]\n"
          ]
        }
      ],
      "source": [
        "lst1=[1,2,3,4,5]\n",
        "lst2=[3,4,5,6,7]\n",
        "common=[]\n",
        "for i in lst1:\n",
        "    if i in lst2:\n",
        "        common.append(i)\n",
        "print(common)"
      ]
    },
    {
      "cell_type": "markdown",
      "metadata": {
        "id": "ljMfatNsnsUw"
      },
      "source": [
        "# Calculating Factorial of a Number"
      ]
    },
    {
      "cell_type": "code",
      "source": [
        "x = int(input())\n",
        "factorial = 1\n",
        "for i in range(1,x+1):\n",
        "    factorial *= i\n",
        "print(factorial)"
      ],
      "metadata": {
        "colab": {
          "base_uri": "https://localhost:8080/"
        },
        "id": "E0kcvsKw8Can",
        "outputId": "ec2fcefc-8706-4497-9d06-23125171d76b"
      },
      "execution_count": 45,
      "outputs": [
        {
          "output_type": "stream",
          "name": "stdout",
          "text": [
            "6\n",
            "720\n"
          ]
        }
      ]
    },
    {
      "cell_type": "markdown",
      "metadata": {
        "id": "EYwVuWVTnsUw"
      },
      "source": [
        "# Validating User Input with While Loop"
      ]
    },
    {
      "cell_type": "code",
      "source": [
        "while True:\n",
        "    age = int(input(\"Enter your age: \"))\n",
        "    if age < 0:\n",
        "        print(\"Age cannot be negative. Please enter a valid age.\")\n",
        "    else:\n",
        "        break  # Exit the loop if input is valid\n",
        "\n",
        "print(\"Your age is:\", age)"
      ],
      "metadata": {
        "colab": {
          "base_uri": "https://localhost:8080/"
        },
        "id": "GBl0iOYI8cf-",
        "outputId": "ca474b73-8fc2-4ccd-8af4-682a0f87a837"
      },
      "execution_count": 47,
      "outputs": [
        {
          "output_type": "stream",
          "name": "stdout",
          "text": [
            "Enter your age: -1\n",
            "Age cannot be negative. Please enter a valid age.\n",
            "Enter your age: 55\n",
            "Your age is: 55\n"
          ]
        }
      ]
    },
    {
      "cell_type": "markdown",
      "metadata": {
        "id": "8sC0CA9KnsUw"
      },
      "source": []
    },
    {
      "cell_type": "markdown",
      "metadata": {
        "id": "GcSzx2wInsUw"
      },
      "source": [
        "# Finding the Sum of Digits of a Number"
      ]
    },
    {
      "cell_type": "code",
      "source": [
        "sum = 0\n",
        "num = int(input())\n",
        "while num > 0:\n",
        "    digit = num % 10\n",
        "    sum += digit\n",
        "    num //= 10\n",
        "print(sum)"
      ],
      "metadata": {
        "colab": {
          "base_uri": "https://localhost:8080/"
        },
        "id": "B6buTVBP8_rK",
        "outputId": "5c3d210d-9d46-45b1-b8a4-b5be0d50d952"
      },
      "execution_count": 52,
      "outputs": [
        {
          "output_type": "stream",
          "name": "stdout",
          "text": [
            "88\n",
            "16\n"
          ]
        }
      ]
    },
    {
      "cell_type": "markdown",
      "metadata": {
        "id": "sU-wP32AnsUw"
      },
      "source": [
        "# Checking for Palindrome Strings"
      ]
    },
    {
      "cell_type": "code",
      "source": [
        "s = input(\"Enter a string: \")\n",
        "\n",
        "if s == s[::-1]:\n",
        "    print(\"The string is a palindrome.\")\n",
        "else:\n",
        "    print(\"The string is not a palindrome.\")\n"
      ],
      "metadata": {
        "colab": {
          "base_uri": "https://localhost:8080/"
        },
        "id": "ygWmLgTC9z0t",
        "outputId": "2e73879d-5f72-464d-ceb8-3745c9fd1122"
      },
      "execution_count": 54,
      "outputs": [
        {
          "output_type": "stream",
          "name": "stdout",
          "text": [
            "Enter a string: eye\n",
            "The string is a palindrome.\n"
          ]
        }
      ]
    },
    {
      "cell_type": "markdown",
      "metadata": {
        "id": "fNb3-Vs7nsU0"
      },
      "source": [
        "# Creating a Dictionary from Two Lists"
      ]
    },
    {
      "cell_type": "code",
      "source": [
        "dict = {}\n",
        "lst1 = [1,2,3,4,5]\n",
        "lst2 = ['a','b','c','d','e']\n",
        "for i in range(len(lst1)):\n",
        "    dict[lst1[i]] = lst2[i]\n",
        "print(dict)"
      ],
      "metadata": {
        "colab": {
          "base_uri": "https://localhost:8080/"
        },
        "id": "8_6GgM2L-5SG",
        "outputId": "a991ee1e-2285-413b-a41c-5ace20d8e406"
      },
      "execution_count": 55,
      "outputs": [
        {
          "output_type": "stream",
          "name": "stdout",
          "text": [
            "{1: 'a', 2: 'b', 3: 'c', 4: 'd', 5: 'e'}\n"
          ]
        }
      ]
    },
    {
      "cell_type": "markdown",
      "metadata": {
        "id": "a-eyM-wDnsU0"
      },
      "source": [
        "# Simulating a Simple Password Check"
      ]
    },
    {
      "cell_type": "code",
      "source": [
        "password = \"123456\"\n",
        "attempts = 3\n",
        "\n",
        "while attempts > 0:\n",
        "    user_input = input(\"Enter the password: \")\n",
        "    if user_input == password:\n",
        "        print(\"Access granted!\")\n",
        "        break\n",
        "    else:\n",
        "        attempts -= 1\n",
        "        print(\"Access denied. Attempts left:\", attempts)"
      ],
      "metadata": {
        "colab": {
          "base_uri": "https://localhost:8080/"
        },
        "id": "1wxRGDzV_Jke",
        "outputId": "91e6e41e-f755-468b-ee0b-df5900a5f0ab"
      },
      "execution_count": 57,
      "outputs": [
        {
          "output_type": "stream",
          "name": "stdout",
          "text": [
            "Enter the password: 123456\n",
            "Access granted!\n"
          ]
        }
      ]
    },
    {
      "cell_type": "markdown",
      "metadata": {
        "id": "3-nvHuM3nsU0"
      },
      "source": [
        "# Generating a Multiplication Table for a Given Number"
      ]
    },
    {
      "cell_type": "code",
      "source": [
        "number = int(input(\"Input a number: \"))\n",
        "\n",
        "for i in range(1, 11):\n",
        "  print(number, \"x\", i, \"=\", number * i)"
      ],
      "metadata": {
        "colab": {
          "base_uri": "https://localhost:8080/"
        },
        "id": "VxYfhM75_fyJ",
        "outputId": "30a0f162-f690-42be-e305-fa0db3853067"
      },
      "execution_count": 58,
      "outputs": [
        {
          "output_type": "stream",
          "name": "stdout",
          "text": [
            "Input a number: 9\n",
            "9 x 1 = 9\n",
            "9 x 2 = 18\n",
            "9 x 3 = 27\n",
            "9 x 4 = 36\n",
            "9 x 5 = 45\n",
            "9 x 6 = 54\n",
            "9 x 7 = 63\n",
            "9 x 8 = 72\n",
            "9 x 9 = 81\n",
            "9 x 10 = 90\n"
          ]
        }
      ]
    }
  ],
  "metadata": {
    "kernelspec": {
      "display_name": "base",
      "language": "python",
      "name": "python3"
    },
    "language_info": {
      "codemirror_mode": {
        "name": "ipython",
        "version": 3
      },
      "file_extension": ".py",
      "mimetype": "text/x-python",
      "name": "python",
      "nbconvert_exporter": "python",
      "pygments_lexer": "ipython3",
      "version": "3.11.7"
    },
    "colab": {
      "provenance": []
    }
  },
  "nbformat": 4,
  "nbformat_minor": 0
}